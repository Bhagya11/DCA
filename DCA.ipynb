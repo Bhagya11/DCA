{
 "cells": [
  {
   "cell_type": "code",
   "execution_count": 2,
   "id": "c3ce6764-291e-4bc8-8d9a-7822059fca20",
   "metadata": {},
   "outputs": [],
   "source": [
    "import pandas as pd\n",
    "import numpy as np\n"
   ]
  },
  {
   "cell_type": "code",
   "execution_count": 3,
   "id": "e414c4bb-b325-47b3-9f9e-858df0c5c47e",
   "metadata": {},
   "outputs": [],
   "source": [
    "X=pd.read_csv('pheno.csv')\n",
    "Y=pd.read_csv('image.csv')\n",
    "label=pd.read_csv('label1.csv')"
   ]
  },
  {
   "cell_type": "code",
   "execution_count": 4,
   "id": "fdcf7248-afd2-4b17-a5a1-22af03a7b347",
   "metadata": {},
   "outputs": [],
   "source": [
    "import numpy as np\n",
    "from scipy.linalg import svd\n",
    "\n",
    "def dca_fuse(X, Y, label):\n",
    "    p, n = X.shape\n",
    "    if Y.shape[1] != n:\n",
    "        raise ValueError('X and Y must have the same number of columns (samples).')\n",
    "    elif len(label) != n:\n",
    "        raise ValueError('The length of the label must be equal to the number of samples.')\n",
    "    elif n == 1:\n",
    "        raise ValueError('X and Y must have more than one column (samples)')\n",
    "\n",
    "    q = Y.shape[0]\n",
    "\n",
    "    # Calculate mean vectors for each class and for all training data\n",
    "    classes = np.unique(label)\n",
    "    print(classes)\n",
    "    c = len(classes)\n",
    "    cellX = [X[:, label == cls] for cls in classes]\n",
    "    cellY = [Y[:, label == cls] for cls in classes]\n",
    "    nSample = np.array([len(cell) for cell in cellX])\n",
    "\n",
    "    meanX = np.mean(X, axis=1)\n",
    "    meanY = np.mean(Y, axis=1)\n",
    "\n",
    "    classMeanX = np.array([np.mean(cell, axis=1) for cell in cellX])\n",
    "    classMeanY = np.array([np.mean(cell, axis=1) for cell in cellY])\n",
    "\n",
    "    PhibX = np.zeros((p, c))\n",
    "    PhibY = np.zeros((q, c))\n",
    "\n",
    "    for i in range(c):\n",
    "        PhibX[:, i] = np.sqrt(nSample[i]) * (classMeanX[:, i] - meanX)\n",
    "        PhibY[:, i] = np.sqrt(nSample[i]) * (classMeanY[:, i] - meanY)\n",
    "\n",
    "    # Diagonalize the between-class scatter matrix (Sb) for X\n",
    "    artSbx = np.dot(PhibX.T, PhibX)\n",
    "    eigVals, eigVecs = np.linalg.eig(artSbx)\n",
    "    eigVals = np.abs(eigVals)\n",
    "    zeroEigIdx = np.where(eigVals / np.max(eigVals) < 1e-6)\n",
    "    eigVals = np.delete(eigVals, zeroEigIdx)\n",
    "    eigVecs = np.delete(eigVecs, zeroEigIdx, axis=1)\n",
    "    idx = np.argsort(eigVals)[::-1]\n",
    "    eigVals = eigVals[idx]\n",
    "    eigVecs = eigVecs[:, idx]\n",
    "    SbxEigVecs = np.dot(PhibX, eigVecs)\n",
    "    SbxEigVals = np.diag(eigVals)\n",
    "    Wbx = np.dot(SbxEigVecs, np.linalg.inv(np.sqrt(SbxEigVals)))\n",
    "\n",
    "    # Diagonalize the between-class scatter matrix (Sb) for Y\n",
    "    artSby = np.dot(PhibY.T, PhibY)\n",
    "    \n",
    "    eigVals, eigVecs = np.linalg.eig(artSby)\n",
    "    eigVals = np.abs(eigVals)\n",
    "    zeroEigIdx = np.where(eigVals / np.max(eigVals) < 1e-6)\n",
    "    eigVals = np.delete(eigVals, zeroEigIdx)\n",
    "    eigVecs = np.delete(eigVecs, zeroEigIdx, axis=1)\n",
    "    idx = np.argsort(eigVals)[::-1]\n",
    "    eigVals = eigVals[idx]\n",
    "    eigVecs = eigVecs[:, idx]\n",
    "    SbyEigVecs = np.dot(PhibY, eigVecs)\n",
    "    SbyEigVals = np.diag(eigVals)\n",
    "    Wby = np.dot(SbyEigVecs, np.linalg.inv(np.sqrt(SbyEigVals)))\n",
    "\n",
    "    # Project data to the space where between-class scatter matrices are identity\n",
    "    r = min(Wbx.shape[1], Wby.shape[1])\n",
    "    Wbx = Wbx[:, :r]\n",
    "    Wby = Wby[:, :r]\n",
    "    Xp = np.dot(Wbx.T, X)\n",
    "    Yp = np.dot(Wby.T, Y)\n",
    "\n",
    "    # Unitize the between-set covariance matrix (Sxy)\n",
    "    Sxy = np.dot(Xp, Yp.T)\n",
    "    Wcx, s, Wcy = svd(Sxy)\n",
    "    Wcx = np.dot(Wcx, np.linalg.inv(np.sqrt(np.diag(s))))\n",
    "    Wcy = np.dot(Wcy, np.linalg.inv(np.sqrt(np.diag(s))))\n",
    "    Xs = np.dot(Wcx.T, Xp)\n",
    "    Ys = np.dot(Wcy.T, Yp)\n",
    "    Ax = np.dot(Wcx.T, Wbx.T)\n",
    "    Ay = np.dot(Wcy.T, Wby.T)\n",
    "\n",
    "    return Ax, Ay, Xs, Ys\n"
   ]
  },
  {
   "cell_type": "code",
   "execution_count": 5,
   "id": "fd0e6c16-9cd5-4d85-b695-01d027bb73bb",
   "metadata": {},
   "outputs": [
    {
     "ename": "ValueError",
     "evalue": "The length of the label must be equal to the number of samples.",
     "output_type": "error",
     "traceback": [
      "\u001b[1;31m---------------------------------------------------------------------------\u001b[0m",
      "\u001b[1;31mValueError\u001b[0m                                Traceback (most recent call last)",
      "\u001b[1;32m~\\AppData\\Local\\Temp\\ipykernel_13824\\3119632309.py\u001b[0m in \u001b[0;36m<module>\u001b[1;34m\u001b[0m\n\u001b[1;32m----> 1\u001b[1;33m \u001b[0mdca_fuse\u001b[0m\u001b[1;33m(\u001b[0m\u001b[0mX\u001b[0m\u001b[1;33m,\u001b[0m\u001b[0mY\u001b[0m\u001b[1;33m,\u001b[0m\u001b[0mlabel\u001b[0m\u001b[1;33m)\u001b[0m\u001b[1;33m\u001b[0m\u001b[1;33m\u001b[0m\u001b[0m\n\u001b[0m",
      "\u001b[1;32m~\\AppData\\Local\\Temp\\ipykernel_13824\\326679656.py\u001b[0m in \u001b[0;36mdca_fuse\u001b[1;34m(X, Y, label)\u001b[0m\n\u001b[0;32m      7\u001b[0m         \u001b[1;32mraise\u001b[0m \u001b[0mValueError\u001b[0m\u001b[1;33m(\u001b[0m\u001b[1;34m'X and Y must have the same number of columns (samples).'\u001b[0m\u001b[1;33m)\u001b[0m\u001b[1;33m\u001b[0m\u001b[1;33m\u001b[0m\u001b[0m\n\u001b[0;32m      8\u001b[0m     \u001b[1;32melif\u001b[0m \u001b[0mlen\u001b[0m\u001b[1;33m(\u001b[0m\u001b[0mlabel\u001b[0m\u001b[1;33m)\u001b[0m \u001b[1;33m!=\u001b[0m \u001b[0mn\u001b[0m\u001b[1;33m:\u001b[0m\u001b[1;33m\u001b[0m\u001b[1;33m\u001b[0m\u001b[0m\n\u001b[1;32m----> 9\u001b[1;33m         \u001b[1;32mraise\u001b[0m \u001b[0mValueError\u001b[0m\u001b[1;33m(\u001b[0m\u001b[1;34m'The length of the label must be equal to the number of samples.'\u001b[0m\u001b[1;33m)\u001b[0m\u001b[1;33m\u001b[0m\u001b[1;33m\u001b[0m\u001b[0m\n\u001b[0m\u001b[0;32m     10\u001b[0m     \u001b[1;32melif\u001b[0m \u001b[0mn\u001b[0m \u001b[1;33m==\u001b[0m \u001b[1;36m1\u001b[0m\u001b[1;33m:\u001b[0m\u001b[1;33m\u001b[0m\u001b[1;33m\u001b[0m\u001b[0m\n\u001b[0;32m     11\u001b[0m         \u001b[1;32mraise\u001b[0m \u001b[0mValueError\u001b[0m\u001b[1;33m(\u001b[0m\u001b[1;34m'X and Y must have more than one column (samples)'\u001b[0m\u001b[1;33m)\u001b[0m\u001b[1;33m\u001b[0m\u001b[1;33m\u001b[0m\u001b[0m\n",
      "\u001b[1;31mValueError\u001b[0m: The length of the label must be equal to the number of samples."
     ]
    }
   ],
   "source": [
    "dca_fuse(X,Y,label)"
   ]
  },
  {
   "cell_type": "code",
   "execution_count": 6,
   "id": "023037ca-9215-4683-af6a-86b77b7619c0",
   "metadata": {},
   "outputs": [
    {
     "data": {
      "text/plain": [
       "((19, 1101), (19, 1101), (1, 1101))"
      ]
     },
     "execution_count": 6,
     "metadata": {},
     "output_type": "execute_result"
    }
   ],
   "source": [
    "X.shape,Y.shape,label.shape"
   ]
  },
  {
   "cell_type": "code",
   "execution_count": null,
   "id": "78c53ad0-b5e4-4afb-a26c-33c6b17c6749",
   "metadata": {},
   "outputs": [],
   "source": []
  }
 ],
 "metadata": {
  "kernelspec": {
   "display_name": "Python 3 (ipykernel)",
   "language": "python",
   "name": "python3"
  },
  "language_info": {
   "codemirror_mode": {
    "name": "ipython",
    "version": 3
   },
   "file_extension": ".py",
   "mimetype": "text/x-python",
   "name": "python",
   "nbconvert_exporter": "python",
   "pygments_lexer": "ipython3",
   "version": "3.9.13"
  }
 },
 "nbformat": 4,
 "nbformat_minor": 5
}
